{
 "cells": [
  {
   "cell_type": "code",
   "execution_count": 1,
   "id": "15ceaffb",
   "metadata": {
    "_cell_guid": "b1076dfc-b9ad-4769-8c92-a6c4dae69d19",
    "_uuid": "8f2839f25d086af736a60e9eeb907d3b93b6e0e5",
    "execution": {
     "iopub.execute_input": "2023-02-14T13:04:32.134328Z",
     "iopub.status.busy": "2023-02-14T13:04:32.132717Z",
     "iopub.status.idle": "2023-02-14T13:04:32.154869Z",
     "shell.execute_reply": "2023-02-14T13:04:32.153588Z"
    },
    "papermill": {
     "duration": 0.037008,
     "end_time": "2023-02-14T13:04:32.157937",
     "exception": false,
     "start_time": "2023-02-14T13:04:32.120929",
     "status": "completed"
    },
    "tags": []
   },
   "outputs": [
    {
     "name": "stdout",
     "output_type": "stream",
     "text": [
      "/kaggle/input/netflix-stock-price-data-set-20022022/NFLX.csv\n"
     ]
    }
   ],
   "source": [
    "# This Python 3 environment comes with many helpful analytics libraries installed\n",
    "# It is defined by the kaggle/python Docker image: https://github.com/kaggle/docker-python\n",
    "# For example, here's several helpful packages to load\n",
    "\n",
    "import numpy as np # linear algebra\n",
    "import pandas as pd # data processing, CSV file I/O (e.g. pd.read_csv)\n",
    "\n",
    "# Input data files are available in the read-only \"../input/\" directory\n",
    "# For example, running this (by clicking run or pressing Shift+Enter) will list all files under the input directory\n",
    "\n",
    "import os\n",
    "for dirname, _, filenames in os.walk('/kaggle/input'):\n",
    "    for filename in filenames:\n",
    "        print(os.path.join(dirname, filename))\n",
    "\n",
    "# You can write up to 20GB to the current directory (/kaggle/working/) that gets preserved as output when you create a version using \"Save & Run All\" \n",
    "# You can also write temporary files to /kaggle/temp/, but they won't be saved outside of the current session"
   ]
  },
  {
   "cell_type": "markdown",
   "id": "c6c15e05",
   "metadata": {
    "papermill": {
     "duration": 0.0085,
     "end_time": "2023-02-14T13:04:32.175503",
     "exception": false,
     "start_time": "2023-02-14T13:04:32.167003",
     "status": "completed"
    },
    "tags": []
   },
   "source": [
    "# Netflix stock prediction for closing price by machine learning algorithms"
   ]
  },
  {
   "cell_type": "code",
   "execution_count": 2,
   "id": "0b5b0700",
   "metadata": {
    "execution": {
     "iopub.execute_input": "2023-02-14T13:04:32.195139Z",
     "iopub.status.busy": "2023-02-14T13:04:32.194106Z",
     "iopub.status.idle": "2023-02-14T13:04:33.388938Z",
     "shell.execute_reply": "2023-02-14T13:04:33.387783Z"
    },
    "papermill": {
     "duration": 1.20787,
     "end_time": "2023-02-14T13:04:33.392192",
     "exception": false,
     "start_time": "2023-02-14T13:04:32.184322",
     "status": "completed"
    },
    "tags": []
   },
   "outputs": [],
   "source": [
    "import numpy as np\n",
    "import pandas as pd\n",
    "from sklearn.tree import DecisionTreeRegressor\n",
    "from sklearn.linear_model import LinearRegression\n",
    "from sklearn.model_selection import train_test_split\n",
    "import matplotlib.pyplot as plt\n",
    "%matplotlib inline\n",
    "plt.style.use('bmh')\n",
    "import warnings\n",
    "warnings.filterwarnings('ignore')"
   ]
  },
  {
   "cell_type": "code",
   "execution_count": 3,
   "id": "7375f138",
   "metadata": {
    "execution": {
     "iopub.execute_input": "2023-02-14T13:04:33.411544Z",
     "iopub.status.busy": "2023-02-14T13:04:33.411148Z",
     "iopub.status.idle": "2023-02-14T13:04:33.461523Z",
     "shell.execute_reply": "2023-02-14T13:04:33.460363Z"
    },
    "papermill": {
     "duration": 0.063065,
     "end_time": "2023-02-14T13:04:33.464062",
     "exception": false,
     "start_time": "2023-02-14T13:04:33.400997",
     "status": "completed"
    },
    "tags": []
   },
   "outputs": [
    {
     "data": {
      "text/html": [
       "<div>\n",
       "<style scoped>\n",
       "    .dataframe tbody tr th:only-of-type {\n",
       "        vertical-align: middle;\n",
       "    }\n",
       "\n",
       "    .dataframe tbody tr th {\n",
       "        vertical-align: top;\n",
       "    }\n",
       "\n",
       "    .dataframe thead th {\n",
       "        text-align: right;\n",
       "    }\n",
       "</style>\n",
       "<table border=\"1\" class=\"dataframe\">\n",
       "  <thead>\n",
       "    <tr style=\"text-align: right;\">\n",
       "      <th></th>\n",
       "      <th>Date</th>\n",
       "      <th>Open</th>\n",
       "      <th>High</th>\n",
       "      <th>Low</th>\n",
       "      <th>Close</th>\n",
       "      <th>Adj Close</th>\n",
       "      <th>Volume</th>\n",
       "    </tr>\n",
       "  </thead>\n",
       "  <tbody>\n",
       "    <tr>\n",
       "      <th>0</th>\n",
       "      <td>2002-05-23</td>\n",
       "      <td>1.156429</td>\n",
       "      <td>1.242857</td>\n",
       "      <td>1.145714</td>\n",
       "      <td>1.196429</td>\n",
       "      <td>1.196429</td>\n",
       "      <td>104790000</td>\n",
       "    </tr>\n",
       "    <tr>\n",
       "      <th>1</th>\n",
       "      <td>2002-05-24</td>\n",
       "      <td>1.214286</td>\n",
       "      <td>1.225000</td>\n",
       "      <td>1.197143</td>\n",
       "      <td>1.210000</td>\n",
       "      <td>1.210000</td>\n",
       "      <td>11104800</td>\n",
       "    </tr>\n",
       "    <tr>\n",
       "      <th>2</th>\n",
       "      <td>2002-05-28</td>\n",
       "      <td>1.213571</td>\n",
       "      <td>1.232143</td>\n",
       "      <td>1.157143</td>\n",
       "      <td>1.157143</td>\n",
       "      <td>1.157143</td>\n",
       "      <td>6609400</td>\n",
       "    </tr>\n",
       "    <tr>\n",
       "      <th>3</th>\n",
       "      <td>2002-05-29</td>\n",
       "      <td>1.164286</td>\n",
       "      <td>1.164286</td>\n",
       "      <td>1.085714</td>\n",
       "      <td>1.103571</td>\n",
       "      <td>1.103571</td>\n",
       "      <td>6757800</td>\n",
       "    </tr>\n",
       "    <tr>\n",
       "      <th>4</th>\n",
       "      <td>2002-05-30</td>\n",
       "      <td>1.107857</td>\n",
       "      <td>1.107857</td>\n",
       "      <td>1.071429</td>\n",
       "      <td>1.071429</td>\n",
       "      <td>1.071429</td>\n",
       "      <td>10154200</td>\n",
       "    </tr>\n",
       "  </tbody>\n",
       "</table>\n",
       "</div>"
      ],
      "text/plain": [
       "         Date      Open      High       Low     Close  Adj Close     Volume\n",
       "0  2002-05-23  1.156429  1.242857  1.145714  1.196429   1.196429  104790000\n",
       "1  2002-05-24  1.214286  1.225000  1.197143  1.210000   1.210000   11104800\n",
       "2  2002-05-28  1.213571  1.232143  1.157143  1.157143   1.157143    6609400\n",
       "3  2002-05-29  1.164286  1.164286  1.085714  1.103571   1.103571    6757800\n",
       "4  2002-05-30  1.107857  1.107857  1.071429  1.071429   1.071429   10154200"
      ]
     },
     "execution_count": 3,
     "metadata": {},
     "output_type": "execute_result"
    }
   ],
   "source": [
    "df=pd.read_csv('/kaggle/input/netflix-stock-price-data-set-20022022/NFLX.csv')\n",
    "df.head()"
   ]
  },
  {
   "cell_type": "code",
   "execution_count": 4,
   "id": "e53bfa73",
   "metadata": {
    "execution": {
     "iopub.execute_input": "2023-02-14T13:04:33.484987Z",
     "iopub.status.busy": "2023-02-14T13:04:33.484560Z",
     "iopub.status.idle": "2023-02-14T13:04:33.498726Z",
     "shell.execute_reply": "2023-02-14T13:04:33.497557Z"
    },
    "papermill": {
     "duration": 0.027655,
     "end_time": "2023-02-14T13:04:33.501091",
     "exception": false,
     "start_time": "2023-02-14T13:04:33.473436",
     "status": "completed"
    },
    "tags": []
   },
   "outputs": [
    {
     "data": {
      "text/html": [
       "<div>\n",
       "<style scoped>\n",
       "    .dataframe tbody tr th:only-of-type {\n",
       "        vertical-align: middle;\n",
       "    }\n",
       "\n",
       "    .dataframe tbody tr th {\n",
       "        vertical-align: top;\n",
       "    }\n",
       "\n",
       "    .dataframe thead th {\n",
       "        text-align: right;\n",
       "    }\n",
       "</style>\n",
       "<table border=\"1\" class=\"dataframe\">\n",
       "  <thead>\n",
       "    <tr style=\"text-align: right;\">\n",
       "      <th></th>\n",
       "      <th>Date</th>\n",
       "      <th>Open</th>\n",
       "      <th>High</th>\n",
       "      <th>Low</th>\n",
       "      <th>Close</th>\n",
       "      <th>Adj Close</th>\n",
       "      <th>Volume</th>\n",
       "    </tr>\n",
       "  </thead>\n",
       "  <tbody>\n",
       "    <tr>\n",
       "      <th>0</th>\n",
       "      <td>2002-05-23</td>\n",
       "      <td>1.156429</td>\n",
       "      <td>1.242857</td>\n",
       "      <td>1.145714</td>\n",
       "      <td>1.196429</td>\n",
       "      <td>1.196429</td>\n",
       "      <td>104790000</td>\n",
       "    </tr>\n",
       "    <tr>\n",
       "      <th>1</th>\n",
       "      <td>2002-05-24</td>\n",
       "      <td>1.214286</td>\n",
       "      <td>1.225000</td>\n",
       "      <td>1.197143</td>\n",
       "      <td>1.210000</td>\n",
       "      <td>1.210000</td>\n",
       "      <td>11104800</td>\n",
       "    </tr>\n",
       "    <tr>\n",
       "      <th>2</th>\n",
       "      <td>2002-05-28</td>\n",
       "      <td>1.213571</td>\n",
       "      <td>1.232143</td>\n",
       "      <td>1.157143</td>\n",
       "      <td>1.157143</td>\n",
       "      <td>1.157143</td>\n",
       "      <td>6609400</td>\n",
       "    </tr>\n",
       "    <tr>\n",
       "      <th>3</th>\n",
       "      <td>2002-05-29</td>\n",
       "      <td>1.164286</td>\n",
       "      <td>1.164286</td>\n",
       "      <td>1.085714</td>\n",
       "      <td>1.103571</td>\n",
       "      <td>1.103571</td>\n",
       "      <td>6757800</td>\n",
       "    </tr>\n",
       "    <tr>\n",
       "      <th>4</th>\n",
       "      <td>2002-05-30</td>\n",
       "      <td>1.107857</td>\n",
       "      <td>1.107857</td>\n",
       "      <td>1.071429</td>\n",
       "      <td>1.071429</td>\n",
       "      <td>1.071429</td>\n",
       "      <td>10154200</td>\n",
       "    </tr>\n",
       "  </tbody>\n",
       "</table>\n",
       "</div>"
      ],
      "text/plain": [
       "         Date      Open      High       Low     Close  Adj Close     Volume\n",
       "0  2002-05-23  1.156429  1.242857  1.145714  1.196429   1.196429  104790000\n",
       "1  2002-05-24  1.214286  1.225000  1.197143  1.210000   1.210000   11104800\n",
       "2  2002-05-28  1.213571  1.232143  1.157143  1.157143   1.157143    6609400\n",
       "3  2002-05-29  1.164286  1.164286  1.085714  1.103571   1.103571    6757800\n",
       "4  2002-05-30  1.107857  1.107857  1.071429  1.071429   1.071429   10154200"
      ]
     },
     "execution_count": 4,
     "metadata": {},
     "output_type": "execute_result"
    }
   ],
   "source": [
    "df.head()"
   ]
  },
  {
   "cell_type": "code",
   "execution_count": 5,
   "id": "1062d862",
   "metadata": {
    "execution": {
     "iopub.execute_input": "2023-02-14T13:04:33.521398Z",
     "iopub.status.busy": "2023-02-14T13:04:33.520975Z",
     "iopub.status.idle": "2023-02-14T13:04:33.535440Z",
     "shell.execute_reply": "2023-02-14T13:04:33.534091Z"
    },
    "papermill": {
     "duration": 0.027389,
     "end_time": "2023-02-14T13:04:33.537703",
     "exception": false,
     "start_time": "2023-02-14T13:04:33.510314",
     "status": "completed"
    },
    "tags": []
   },
   "outputs": [
    {
     "data": {
      "text/html": [
       "<div>\n",
       "<style scoped>\n",
       "    .dataframe tbody tr th:only-of-type {\n",
       "        vertical-align: middle;\n",
       "    }\n",
       "\n",
       "    .dataframe tbody tr th {\n",
       "        vertical-align: top;\n",
       "    }\n",
       "\n",
       "    .dataframe thead th {\n",
       "        text-align: right;\n",
       "    }\n",
       "</style>\n",
       "<table border=\"1\" class=\"dataframe\">\n",
       "  <thead>\n",
       "    <tr style=\"text-align: right;\">\n",
       "      <th></th>\n",
       "      <th>Date</th>\n",
       "      <th>Open</th>\n",
       "      <th>High</th>\n",
       "      <th>Low</th>\n",
       "      <th>Close</th>\n",
       "      <th>Adj Close</th>\n",
       "      <th>Volume</th>\n",
       "    </tr>\n",
       "  </thead>\n",
       "  <tbody>\n",
       "    <tr>\n",
       "      <th>5039</th>\n",
       "      <td>2022-05-27</td>\n",
       "      <td>193.190002</td>\n",
       "      <td>195.250000</td>\n",
       "      <td>190.369995</td>\n",
       "      <td>195.190002</td>\n",
       "      <td>195.190002</td>\n",
       "      <td>8586000</td>\n",
       "    </tr>\n",
       "    <tr>\n",
       "      <th>5040</th>\n",
       "      <td>2022-05-31</td>\n",
       "      <td>196.179993</td>\n",
       "      <td>199.949997</td>\n",
       "      <td>190.800003</td>\n",
       "      <td>197.440002</td>\n",
       "      <td>197.440002</td>\n",
       "      <td>11398500</td>\n",
       "    </tr>\n",
       "    <tr>\n",
       "      <th>5041</th>\n",
       "      <td>2022-06-01</td>\n",
       "      <td>198.699997</td>\n",
       "      <td>202.740005</td>\n",
       "      <td>191.660004</td>\n",
       "      <td>192.910004</td>\n",
       "      <td>192.910004</td>\n",
       "      <td>8416200</td>\n",
       "    </tr>\n",
       "    <tr>\n",
       "      <th>5042</th>\n",
       "      <td>2022-06-02</td>\n",
       "      <td>192.020004</td>\n",
       "      <td>205.470001</td>\n",
       "      <td>191.720001</td>\n",
       "      <td>205.089996</td>\n",
       "      <td>205.089996</td>\n",
       "      <td>9623100</td>\n",
       "    </tr>\n",
       "    <tr>\n",
       "      <th>5043</th>\n",
       "      <td>2022-06-03</td>\n",
       "      <td>200.139999</td>\n",
       "      <td>202.949997</td>\n",
       "      <td>198.050003</td>\n",
       "      <td>198.979996</td>\n",
       "      <td>198.979996</td>\n",
       "      <td>7181700</td>\n",
       "    </tr>\n",
       "  </tbody>\n",
       "</table>\n",
       "</div>"
      ],
      "text/plain": [
       "            Date        Open        High         Low       Close   Adj Close  \\\n",
       "5039  2022-05-27  193.190002  195.250000  190.369995  195.190002  195.190002   \n",
       "5040  2022-05-31  196.179993  199.949997  190.800003  197.440002  197.440002   \n",
       "5041  2022-06-01  198.699997  202.740005  191.660004  192.910004  192.910004   \n",
       "5042  2022-06-02  192.020004  205.470001  191.720001  205.089996  205.089996   \n",
       "5043  2022-06-03  200.139999  202.949997  198.050003  198.979996  198.979996   \n",
       "\n",
       "        Volume  \n",
       "5039   8586000  \n",
       "5040  11398500  \n",
       "5041   8416200  \n",
       "5042   9623100  \n",
       "5043   7181700  "
      ]
     },
     "execution_count": 5,
     "metadata": {},
     "output_type": "execute_result"
    }
   ],
   "source": [
    "df.tail()"
   ]
  },
  {
   "cell_type": "code",
   "execution_count": 6,
   "id": "b9de442e",
   "metadata": {
    "execution": {
     "iopub.execute_input": "2023-02-14T13:04:33.558268Z",
     "iopub.status.busy": "2023-02-14T13:04:33.557820Z",
     "iopub.status.idle": "2023-02-14T13:04:33.865366Z",
     "shell.execute_reply": "2023-02-14T13:04:33.864287Z"
    },
    "papermill": {
     "duration": 0.32099,
     "end_time": "2023-02-14T13:04:33.867947",
     "exception": false,
     "start_time": "2023-02-14T13:04:33.546957",
     "status": "completed"
    },
    "tags": []
   },
   "outputs": [
    {
     "data": {
      "text/plain": [
       "Text(0, 0.5, 'close price USD($)')"
      ]
     },
     "execution_count": 6,
     "metadata": {},
     "output_type": "execute_result"
    },
    {
     "data": {
      "image/png": "[encoded data removed]",
      "text/plain": [
       "<Figure size 1152x576 with 1 Axes>"
      ]
     },
     "metadata": {
      "needs_background": "light"
     },
     "output_type": "display_data"
    }
   ],
   "source": [
    "plt.figure(figsize=(16,8))\n",
    "plt.plot(df['Close'])\n",
    "plt.title('Netflix')\n",
    "plt.xlabel('Days')\n",
    "plt.ylabel('close price USD($)')"
   ]
  },
  {
   "cell_type": "code",
   "execution_count": 7,
   "id": "ba9fbe02",
   "metadata": {
    "execution": {
     "iopub.execute_input": "2023-02-14T13:04:33.892349Z",
     "iopub.status.busy": "2023-02-14T13:04:33.891931Z",
     "iopub.status.idle": "2023-02-14T13:04:33.914552Z",
     "shell.execute_reply": "2023-02-14T13:04:33.913293Z"
    },
    "papermill": {
     "duration": 0.038587,
     "end_time": "2023-02-14T13:04:33.918268",
     "exception": false,
     "start_time": "2023-02-14T13:04:33.879681",
     "status": "completed"
    },
    "tags": []
   },
   "outputs": [
    {
     "name": "stdout",
     "output_type": "stream",
     "text": [
      "<class 'pandas.core.frame.DataFrame'>\n",
      "RangeIndex: 5044 entries, 0 to 5043\n",
      "Data columns (total 7 columns):\n",
      " #   Column     Non-Null Count  Dtype  \n",
      "---  ------     --------------  -----  \n",
      " 0   Date       5044 non-null   object \n",
      " 1   Open       5044 non-null   float64\n",
      " 2   High       5044 non-null   float64\n",
      " 3   Low        5044 non-null   float64\n",
      " 4   Close      5044 non-null   float64\n",
      " 5   Adj Close  5044 non-null   float64\n",
      " 6   Volume     5044 non-null   int64  \n",
      "dtypes: float64(5), int64(1), object(1)\n",
      "memory usage: 276.0+ KB\n"
     ]
    }
   ],
   "source": [
    "df.info()"
   ]
  },
  {
   "cell_type": "markdown",
   "id": "84b4b88c",
   "metadata": {
    "papermill": {
     "duration": 0.010006,
     "end_time": "2023-02-14T13:04:33.940183",
     "exception": false,
     "start_time": "2023-02-14T13:04:33.930177",
     "status": "completed"
    },
    "tags": []
   },
   "source": [
    "# create a variable to predict 'x' days out into the future"
   ]
  },
  {
   "cell_type": "code",
   "execution_count": 8,
   "id": "43f8eb68",
   "metadata": {
    "execution": {
     "iopub.execute_input": "2023-02-14T13:04:33.962237Z",
     "iopub.status.busy": "2023-02-14T13:04:33.961830Z",
     "iopub.status.idle": "2023-02-14T13:04:33.973347Z",
     "shell.execute_reply": "2023-02-14T13:04:33.972564Z"
    },
    "papermill": {
     "duration": 0.025319,
     "end_time": "2023-02-14T13:04:33.975669",
     "exception": false,
     "start_time": "2023-02-14T13:04:33.950350",
     "status": "completed"
    },
    "tags": []
   },
   "outputs": [
    {
     "data": {
      "text/html": [
       "<div>\n",
       "<style scoped>\n",
       "    .dataframe tbody tr th:only-of-type {\n",
       "        vertical-align: middle;\n",
       "    }\n",
       "\n",
       "    .dataframe tbody tr th {\n",
       "        vertical-align: top;\n",
       "    }\n",
       "\n",
       "    .dataframe thead th {\n",
       "        text-align: right;\n",
       "    }\n",
       "</style>\n",
       "<table border=\"1\" class=\"dataframe\">\n",
       "  <thead>\n",
       "    <tr style=\"text-align: right;\">\n",
       "      <th></th>\n",
       "      <th>Close</th>\n",
       "    </tr>\n",
       "  </thead>\n",
       "  <tbody>\n",
       "    <tr>\n",
       "      <th>0</th>\n",
       "      <td>1.196429</td>\n",
       "    </tr>\n",
       "    <tr>\n",
       "      <th>1</th>\n",
       "      <td>1.210000</td>\n",
       "    </tr>\n",
       "    <tr>\n",
       "      <th>2</th>\n",
       "      <td>1.157143</td>\n",
       "    </tr>\n",
       "    <tr>\n",
       "      <th>3</th>\n",
       "      <td>1.103571</td>\n",
       "    </tr>\n",
       "    <tr>\n",
       "      <th>4</th>\n",
       "      <td>1.071429</td>\n",
       "    </tr>\n",
       "  </tbody>\n",
       "</table>\n",
       "</div>"
      ],
      "text/plain": [
       "      Close\n",
       "0  1.196429\n",
       "1  1.210000\n",
       "2  1.157143\n",
       "3  1.103571\n",
       "4  1.071429"
      ]
     },
     "execution_count": 8,
     "metadata": {},
     "output_type": "execute_result"
    }
   ],
   "source": [
    "df1=df.drop(['Open','High','Low','Adj Close','Volume','Date'],axis=1)\n",
    "df1.head()"
   ]
  },
  {
   "cell_type": "code",
   "execution_count": 9,
   "id": "341e7fcd",
   "metadata": {
    "execution": {
     "iopub.execute_input": "2023-02-14T13:04:33.998774Z",
     "iopub.status.busy": "2023-02-14T13:04:33.998358Z",
     "iopub.status.idle": "2023-02-14T13:04:34.011526Z",
     "shell.execute_reply": "2023-02-14T13:04:34.009854Z"
    },
    "papermill": {
     "duration": 0.027293,
     "end_time": "2023-02-14T13:04:34.013992",
     "exception": false,
     "start_time": "2023-02-14T13:04:33.986699",
     "status": "completed"
    },
    "tags": []
   },
   "outputs": [
    {
     "name": "stdout",
     "output_type": "stream",
     "text": [
      "<class 'pandas.core.frame.DataFrame'>\n",
      "RangeIndex: 5044 entries, 0 to 5043\n",
      "Data columns (total 1 columns):\n",
      " #   Column  Non-Null Count  Dtype  \n",
      "---  ------  --------------  -----  \n",
      " 0   Close   5044 non-null   float64\n",
      "dtypes: float64(1)\n",
      "memory usage: 39.5 KB\n"
     ]
    }
   ],
   "source": [
    "df1.info()"
   ]
  },
  {
   "cell_type": "code",
   "execution_count": 10,
   "id": "3abf510c",
   "metadata": {
    "execution": {
     "iopub.execute_input": "2023-02-14T13:04:34.037252Z",
     "iopub.status.busy": "2023-02-14T13:04:34.036527Z",
     "iopub.status.idle": "2023-02-14T13:04:34.041042Z",
     "shell.execute_reply": "2023-02-14T13:04:34.040190Z"
    },
    "papermill": {
     "duration": 0.018429,
     "end_time": "2023-02-14T13:04:34.043174",
     "exception": false,
     "start_time": "2023-02-14T13:04:34.024745",
     "status": "completed"
    },
    "tags": []
   },
   "outputs": [],
   "source": [
    "future_days=100"
   ]
  },
  {
   "cell_type": "markdown",
   "id": "7fc5e781",
   "metadata": {
    "papermill": {
     "duration": 0.010254,
     "end_time": "2023-02-14T13:04:34.063978",
     "exception": false,
     "start_time": "2023-02-14T13:04:34.053724",
     "status": "completed"
    },
    "tags": []
   },
   "source": [
    "# create a new column (target) shifted 'x' days up"
   ]
  },
  {
   "cell_type": "code",
   "execution_count": 11,
   "id": "38d80753",
   "metadata": {
    "execution": {
     "iopub.execute_input": "2023-02-14T13:04:34.087283Z",
     "iopub.status.busy": "2023-02-14T13:04:34.086124Z",
     "iopub.status.idle": "2023-02-14T13:04:34.099475Z",
     "shell.execute_reply": "2023-02-14T13:04:34.098294Z"
    },
    "papermill": {
     "duration": 0.027502,
     "end_time": "2023-02-14T13:04:34.101925",
     "exception": false,
     "start_time": "2023-02-14T13:04:34.074423",
     "status": "completed"
    },
    "tags": []
   },
   "outputs": [
    {
     "data": {
      "text/html": [
       "<div>\n",
       "<style scoped>\n",
       "    .dataframe tbody tr th:only-of-type {\n",
       "        vertical-align: middle;\n",
       "    }\n",
       "\n",
       "    .dataframe tbody tr th {\n",
       "        vertical-align: top;\n",
       "    }\n",
       "\n",
       "    .dataframe thead th {\n",
       "        text-align: right;\n",
       "    }\n",
       "</style>\n",
       "<table border=\"1\" class=\"dataframe\">\n",
       "  <thead>\n",
       "    <tr style=\"text-align: right;\">\n",
       "      <th></th>\n",
       "      <th>Close</th>\n",
       "      <th>prediction</th>\n",
       "    </tr>\n",
       "  </thead>\n",
       "  <tbody>\n",
       "    <tr>\n",
       "      <th>0</th>\n",
       "      <td>1.196429</td>\n",
       "      <td>0.550000</td>\n",
       "    </tr>\n",
       "    <tr>\n",
       "      <th>1</th>\n",
       "      <td>1.210000</td>\n",
       "      <td>0.459286</td>\n",
       "    </tr>\n",
       "    <tr>\n",
       "      <th>2</th>\n",
       "      <td>1.157143</td>\n",
       "      <td>0.550000</td>\n",
       "    </tr>\n",
       "    <tr>\n",
       "      <th>3</th>\n",
       "      <td>1.103571</td>\n",
       "      <td>0.682857</td>\n",
       "    </tr>\n",
       "    <tr>\n",
       "      <th>4</th>\n",
       "      <td>1.071429</td>\n",
       "      <td>0.636429</td>\n",
       "    </tr>\n",
       "  </tbody>\n",
       "</table>\n",
       "</div>"
      ],
      "text/plain": [
       "      Close  prediction\n",
       "0  1.196429    0.550000\n",
       "1  1.210000    0.459286\n",
       "2  1.157143    0.550000\n",
       "3  1.103571    0.682857\n",
       "4  1.071429    0.636429"
      ]
     },
     "execution_count": 11,
     "metadata": {},
     "output_type": "execute_result"
    }
   ],
   "source": [
    "df1['prediction']=df1[['Close']].shift(-future_days)\n",
    "df1.head()"
   ]
  },
  {
   "cell_type": "code",
   "execution_count": 12,
   "id": "7661ce18",
   "metadata": {
    "execution": {
     "iopub.execute_input": "2023-02-14T13:04:34.125567Z",
     "iopub.status.busy": "2023-02-14T13:04:34.124468Z",
     "iopub.status.idle": "2023-02-14T13:04:34.135735Z",
     "shell.execute_reply": "2023-02-14T13:04:34.134658Z"
    },
    "papermill": {
     "duration": 0.025775,
     "end_time": "2023-02-14T13:04:34.138384",
     "exception": false,
     "start_time": "2023-02-14T13:04:34.112609",
     "status": "completed"
    },
    "tags": []
   },
   "outputs": [
    {
     "data": {
      "text/html": [
       "<div>\n",
       "<style scoped>\n",
       "    .dataframe tbody tr th:only-of-type {\n",
       "        vertical-align: middle;\n",
       "    }\n",
       "\n",
       "    .dataframe tbody tr th {\n",
       "        vertical-align: top;\n",
       "    }\n",
       "\n",
       "    .dataframe thead th {\n",
       "        text-align: right;\n",
       "    }\n",
       "</style>\n",
       "<table border=\"1\" class=\"dataframe\">\n",
       "  <thead>\n",
       "    <tr style=\"text-align: right;\">\n",
       "      <th></th>\n",
       "      <th>Close</th>\n",
       "      <th>prediction</th>\n",
       "    </tr>\n",
       "  </thead>\n",
       "  <tbody>\n",
       "    <tr>\n",
       "      <th>5039</th>\n",
       "      <td>195.190002</td>\n",
       "      <td>NaN</td>\n",
       "    </tr>\n",
       "    <tr>\n",
       "      <th>5040</th>\n",
       "      <td>197.440002</td>\n",
       "      <td>NaN</td>\n",
       "    </tr>\n",
       "    <tr>\n",
       "      <th>5041</th>\n",
       "      <td>192.910004</td>\n",
       "      <td>NaN</td>\n",
       "    </tr>\n",
       "    <tr>\n",
       "      <th>5042</th>\n",
       "      <td>205.089996</td>\n",
       "      <td>NaN</td>\n",
       "    </tr>\n",
       "    <tr>\n",
       "      <th>5043</th>\n",
       "      <td>198.979996</td>\n",
       "      <td>NaN</td>\n",
       "    </tr>\n",
       "  </tbody>\n",
       "</table>\n",
       "</div>"
      ],
      "text/plain": [
       "           Close  prediction\n",
       "5039  195.190002         NaN\n",
       "5040  197.440002         NaN\n",
       "5041  192.910004         NaN\n",
       "5042  205.089996         NaN\n",
       "5043  198.979996         NaN"
      ]
     },
     "execution_count": 12,
     "metadata": {},
     "output_type": "execute_result"
    }
   ],
   "source": [
    "df1.tail()"
   ]
  },
  {
   "cell_type": "markdown",
   "id": "d485f698",
   "metadata": {
    "papermill": {
     "duration": 0.010812,
     "end_time": "2023-02-14T13:04:34.160227",
     "exception": false,
     "start_time": "2023-02-14T13:04:34.149415",
     "status": "completed"
    },
    "tags": []
   },
   "source": [
    "# create the feature (x) and convert it to numpy array and remove the last 'x' days"
   ]
  },
  {
   "cell_type": "code",
   "execution_count": 13,
   "id": "b9164eee",
   "metadata": {
    "execution": {
     "iopub.execute_input": "2023-02-14T13:04:34.184032Z",
     "iopub.status.busy": "2023-02-14T13:04:34.183609Z",
     "iopub.status.idle": "2023-02-14T13:04:34.192050Z",
     "shell.execute_reply": "2023-02-14T13:04:34.190826Z"
    },
    "papermill": {
     "duration": 0.023487,
     "end_time": "2023-02-14T13:04:34.194610",
     "exception": false,
     "start_time": "2023-02-14T13:04:34.171123",
     "status": "completed"
    },
    "tags": []
   },
   "outputs": [
    {
     "name": "stdout",
     "output_type": "stream",
     "text": [
      "[[  1.196429]\n",
      " [  1.21    ]\n",
      " [  1.157143]\n",
      " ...\n",
      " [553.289978]\n",
      " [541.059998]\n",
      " [539.849976]]\n"
     ]
    }
   ],
   "source": [
    "X=np.array(df1.drop(['prediction'],1))[:-future_days]\n",
    "print(X)"
   ]
  },
  {
   "cell_type": "code",
   "execution_count": 14,
   "id": "778946c1",
   "metadata": {
    "execution": {
     "iopub.execute_input": "2023-02-14T13:04:34.218869Z",
     "iopub.status.busy": "2023-02-14T13:04:34.217902Z",
     "iopub.status.idle": "2023-02-14T13:04:34.225834Z",
     "shell.execute_reply": "2023-02-14T13:04:34.224655Z"
    },
    "papermill": {
     "duration": 0.022658,
     "end_time": "2023-02-14T13:04:34.228331",
     "exception": false,
     "start_time": "2023-02-14T13:04:34.205673",
     "status": "completed"
    },
    "tags": []
   },
   "outputs": [
    {
     "data": {
      "text/plain": [
       "(4944, 1)"
      ]
     },
     "execution_count": 14,
     "metadata": {},
     "output_type": "execute_result"
    }
   ],
   "source": [
    "X.shape"
   ]
  },
  {
   "cell_type": "markdown",
   "id": "cf4f16fe",
   "metadata": {
    "papermill": {
     "duration": 0.01059,
     "end_time": "2023-02-14T13:04:34.250107",
     "exception": false,
     "start_time": "2023-02-14T13:04:34.239517",
     "status": "completed"
    },
    "tags": []
   },
   "source": [
    "# create the target data (y) and convert it to a numpy array and get all of the target values except the last 'x' days"
   ]
  },
  {
   "cell_type": "code",
   "execution_count": 15,
   "id": "6d0ac4c5",
   "metadata": {
    "execution": {
     "iopub.execute_input": "2023-02-14T13:04:34.274050Z",
     "iopub.status.busy": "2023-02-14T13:04:34.273648Z",
     "iopub.status.idle": "2023-02-14T13:04:34.280155Z",
     "shell.execute_reply": "2023-02-14T13:04:34.278968Z"
    },
    "papermill": {
     "duration": 0.022813,
     "end_time": "2023-02-14T13:04:34.283949",
     "exception": false,
     "start_time": "2023-02-14T13:04:34.261136",
     "status": "completed"
    },
    "tags": []
   },
   "outputs": [
    {
     "name": "stdout",
     "output_type": "stream",
     "text": [
      "[  0.55       0.459286   0.55     ... 192.910004 205.089996 198.979996]\n"
     ]
    }
   ],
   "source": [
    "y=np.array(df1['prediction'])[:-future_days]\n",
    "print(y)"
   ]
  },
  {
   "cell_type": "code",
   "execution_count": 16,
   "id": "1631722a",
   "metadata": {
    "execution": {
     "iopub.execute_input": "2023-02-14T13:04:34.309685Z",
     "iopub.status.busy": "2023-02-14T13:04:34.308784Z",
     "iopub.status.idle": "2023-02-14T13:04:34.316081Z",
     "shell.execute_reply": "2023-02-14T13:04:34.314929Z"
    },
    "papermill": {
     "duration": 0.022313,
     "end_time": "2023-02-14T13:04:34.318691",
     "exception": false,
     "start_time": "2023-02-14T13:04:34.296378",
     "status": "completed"
    },
    "tags": []
   },
   "outputs": [
    {
     "data": {
      "text/plain": [
       "(4944,)"
      ]
     },
     "execution_count": 16,
     "metadata": {},
     "output_type": "execute_result"
    }
   ],
   "source": [
    "y.shape"
   ]
  },
  {
   "cell_type": "markdown",
   "id": "0e518b85",
   "metadata": {
    "papermill": {
     "duration": 0.01168,
     "end_time": "2023-02-14T13:04:34.341949",
     "exception": false,
     "start_time": "2023-02-14T13:04:34.330269",
     "status": "completed"
    },
    "tags": []
   },
   "source": [
    "# split the data into train and test"
   ]
  },
  {
   "cell_type": "code",
   "execution_count": 17,
   "id": "09c56b76",
   "metadata": {
    "execution": {
     "iopub.execute_input": "2023-02-14T13:04:34.367561Z",
     "iopub.status.busy": "2023-02-14T13:04:34.367130Z",
     "iopub.status.idle": "2023-02-14T13:04:34.374124Z",
     "shell.execute_reply": "2023-02-14T13:04:34.372857Z"
    },
    "papermill": {
     "duration": 0.022385,
     "end_time": "2023-02-14T13:04:34.376434",
     "exception": false,
     "start_time": "2023-02-14T13:04:34.354049",
     "status": "completed"
    },
    "tags": []
   },
   "outputs": [],
   "source": [
    "X_train,X_test,y_train,y_test=train_test_split(X,y,test_size=.25,random_state=101)"
   ]
  },
  {
   "cell_type": "code",
   "execution_count": 18,
   "id": "669fb308",
   "metadata": {
    "execution": {
     "iopub.execute_input": "2023-02-14T13:04:34.401316Z",
     "iopub.status.busy": "2023-02-14T13:04:34.400910Z",
     "iopub.status.idle": "2023-02-14T13:04:34.407147Z",
     "shell.execute_reply": "2023-02-14T13:04:34.405954Z"
    },
    "papermill": {
     "duration": 0.021578,
     "end_time": "2023-02-14T13:04:34.409379",
     "exception": false,
     "start_time": "2023-02-14T13:04:34.387801",
     "status": "completed"
    },
    "tags": []
   },
   "outputs": [
    {
     "data": {
      "text/plain": [
       "(3708, 1)"
      ]
     },
     "execution_count": 18,
     "metadata": {},
     "output_type": "execute_result"
    }
   ],
   "source": [
    "X_train.shape"
   ]
  },
  {
   "cell_type": "code",
   "execution_count": 19,
   "id": "85dc7d77",
   "metadata": {
    "execution": {
     "iopub.execute_input": "2023-02-14T13:04:34.433939Z",
     "iopub.status.busy": "2023-02-14T13:04:34.433426Z",
     "iopub.status.idle": "2023-02-14T13:04:34.440976Z",
     "shell.execute_reply": "2023-02-14T13:04:34.439770Z"
    },
    "papermill": {
     "duration": 0.022629,
     "end_time": "2023-02-14T13:04:34.443471",
     "exception": false,
     "start_time": "2023-02-14T13:04:34.420842",
     "status": "completed"
    },
    "tags": []
   },
   "outputs": [
    {
     "data": {
      "text/plain": [
       "(1236, 1)"
      ]
     },
     "execution_count": 19,
     "metadata": {},
     "output_type": "execute_result"
    }
   ],
   "source": [
    "X_test.shape"
   ]
  },
  {
   "cell_type": "markdown",
   "id": "b3850a4f",
   "metadata": {
    "papermill": {
     "duration": 0.011447,
     "end_time": "2023-02-14T13:04:34.466712",
     "exception": false,
     "start_time": "2023-02-14T13:04:34.455265",
     "status": "completed"
    },
    "tags": []
   },
   "source": [
    "# create decision tree regressor model"
   ]
  },
  {
   "cell_type": "code",
   "execution_count": 20,
   "id": "9ca04cae",
   "metadata": {
    "execution": {
     "iopub.execute_input": "2023-02-14T13:04:34.492259Z",
     "iopub.status.busy": "2023-02-14T13:04:34.491116Z",
     "iopub.status.idle": "2023-02-14T13:04:34.508082Z",
     "shell.execute_reply": "2023-02-14T13:04:34.506964Z"
    },
    "papermill": {
     "duration": 0.032228,
     "end_time": "2023-02-14T13:04:34.510483",
     "exception": false,
     "start_time": "2023-02-14T13:04:34.478255",
     "status": "completed"
    },
    "tags": []
   },
   "outputs": [
    {
     "data": {
      "text/plain": [
       "DecisionTreeRegressor()"
      ]
     },
     "execution_count": 20,
     "metadata": {},
     "output_type": "execute_result"
    }
   ],
   "source": [
    "tree=DecisionTreeRegressor()\n",
    "tree.fit(X_train,y_train)"
   ]
  },
  {
   "cell_type": "markdown",
   "id": "f0d41f2f",
   "metadata": {
    "papermill": {
     "duration": 0.011203,
     "end_time": "2023-02-14T13:04:34.533450",
     "exception": false,
     "start_time": "2023-02-14T13:04:34.522247",
     "status": "completed"
    },
    "tags": []
   },
   "source": [
    "# create linear regression model"
   ]
  },
  {
   "cell_type": "code",
   "execution_count": 21,
   "id": "67a94b69",
   "metadata": {
    "execution": {
     "iopub.execute_input": "2023-02-14T13:04:34.558664Z",
     "iopub.status.busy": "2023-02-14T13:04:34.558288Z",
     "iopub.status.idle": "2023-02-14T13:04:34.579217Z",
     "shell.execute_reply": "2023-02-14T13:04:34.577967Z"
    },
    "papermill": {
     "duration": 0.036725,
     "end_time": "2023-02-14T13:04:34.581725",
     "exception": false,
     "start_time": "2023-02-14T13:04:34.545000",
     "status": "completed"
    },
    "tags": []
   },
   "outputs": [
    {
     "data": {
      "text/plain": [
       "LinearRegression()"
      ]
     },
     "execution_count": 21,
     "metadata": {},
     "output_type": "execute_result"
    }
   ],
   "source": [
    "lr=LinearRegression()\n",
    "lr.fit(X_train,y_train)"
   ]
  },
  {
   "cell_type": "markdown",
   "id": "829595da",
   "metadata": {
    "papermill": {
     "duration": 0.011461,
     "end_time": "2023-02-14T13:04:34.605013",
     "exception": false,
     "start_time": "2023-02-14T13:04:34.593552",
     "status": "completed"
    },
    "tags": []
   },
   "source": [
    "# get the last 'x' days of the feature data"
   ]
  },
  {
   "cell_type": "code",
   "execution_count": 22,
   "id": "3435831a",
   "metadata": {
    "execution": {
     "iopub.execute_input": "2023-02-14T13:04:34.631241Z",
     "iopub.status.busy": "2023-02-14T13:04:34.630055Z",
     "iopub.status.idle": "2023-02-14T13:04:34.637648Z",
     "shell.execute_reply": "2023-02-14T13:04:34.636257Z"
    },
    "papermill": {
     "duration": 0.023743,
     "end_time": "2023-02-14T13:04:34.640354",
     "exception": false,
     "start_time": "2023-02-14T13:04:34.616611",
     "status": "completed"
    },
    "tags": []
   },
   "outputs": [],
   "source": [
    "x_future=df1.drop(['prediction'],1)[:-future_days]\n",
    "x_future=x_future.tail(future_days)\n",
    "x_future=np.array(x_future)"
   ]
  },
  {
   "cell_type": "markdown",
   "id": "26bac102",
   "metadata": {
    "papermill": {
     "duration": 0.011801,
     "end_time": "2023-02-14T13:04:34.664249",
     "exception": false,
     "start_time": "2023-02-14T13:04:34.652448",
     "status": "completed"
    },
    "tags": []
   },
   "source": [
    "# show the model tree prediction"
   ]
  },
  {
   "cell_type": "code",
   "execution_count": 23,
   "id": "858ce9ae",
   "metadata": {
    "execution": {
     "iopub.execute_input": "2023-02-14T13:04:34.689079Z",
     "iopub.status.busy": "2023-02-14T13:04:34.688625Z",
     "iopub.status.idle": "2023-02-14T13:04:34.696928Z",
     "shell.execute_reply": "2023-02-14T13:04:34.695284Z"
    },
    "papermill": {
     "duration": 0.023688,
     "end_time": "2023-02-14T13:04:34.699593",
     "exception": false,
     "start_time": "2023-02-14T13:04:34.675905",
     "status": "completed"
    },
    "tags": []
   },
   "outputs": [
    {
     "name": "stdout",
     "output_type": "stream",
     "text": [
      "[540.840027  537.219971  519.200012  528.9850155 586.340027  515.859985\n",
      " 508.25      397.5       387.149994  366.420013  359.700012  386.700012\n",
      " 384.359985  384.359985  457.130005  429.480011  405.600006  410.170013\n",
      " 402.100006  499.890015  412.890015  406.269989  391.309998  396.570007\n",
      " 187.639999  398.079987  386.670013  391.290009  377.380005  367.459991\n",
      " 183.479996  187.830002  394.519989  386.23999   368.070007  368.070007\n",
      " 361.730011  350.26001   341.76001   358.790009  356.769989  340.320007\n",
      " 331.01001   343.75      357.529999  371.399994  374.48999   374.589996\n",
      " 382.920013  374.48999   375.709991  350.429993  378.51001   391.820007\n",
      " 381.470001  380.149994  373.470001  391.5       380.149994  368.350006\n",
      " 362.149994  355.880005  348.        344.100006  350.429993  341.130005\n",
      " 337.859985  357.529999  226.190002  371.399994  215.520004  209.910004\n",
      " 198.399994  188.539993  199.520004  183.479996  199.460007  199.869995\n",
      " 204.009995  188.320007  177.660004  173.100006  177.660004  166.369995\n",
      " 499.890015  187.639999  177.660004  177.190002  177.190002  183.479996\n",
      " 186.350006  186.350006  180.339996  187.830002  191.399994  195.190002\n",
      " 197.440002  192.910004  502.359985  198.979996 ]\n"
     ]
    }
   ],
   "source": [
    "tree_prediction=tree.predict(x_future)\n",
    "print(tree_prediction)"
   ]
  },
  {
   "cell_type": "markdown",
   "id": "d108ed5d",
   "metadata": {
    "papermill": {
     "duration": 0.01181,
     "end_time": "2023-02-14T13:04:34.723151",
     "exception": false,
     "start_time": "2023-02-14T13:04:34.711341",
     "status": "completed"
    },
    "tags": []
   },
   "source": [
    "# show the model linear prediction"
   ]
  },
  {
   "cell_type": "code",
   "execution_count": 24,
   "id": "114aca0d",
   "metadata": {
    "execution": {
     "iopub.execute_input": "2023-02-14T13:04:34.748700Z",
     "iopub.status.busy": "2023-02-14T13:04:34.748260Z",
     "iopub.status.idle": "2023-02-14T13:04:34.755958Z",
     "shell.execute_reply": "2023-02-14T13:04:34.755059Z"
    },
    "papermill": {
     "duration": 0.023913,
     "end_time": "2023-02-14T13:04:34.759006",
     "exception": false,
     "start_time": "2023-02-14T13:04:34.735093",
     "status": "completed"
    },
    "tags": []
   },
   "outputs": [
    {
     "name": "stdout",
     "output_type": "stream",
     "text": [
      "[528.42860175 531.43793548 537.561072   537.63697596 532.10247208\n",
      " 534.51372837 542.86774816 549.75983338 552.61730032 564.84456888\n",
      " 570.99615562 572.87585156 588.23587043 587.60928581 579.53054844\n",
      " 580.65074143 571.69864421 560.7529951  565.60401487 569.05005748\n",
      " 571.75560161 558.54105934 556.36713347 572.98976542 575.46748183\n",
      " 574.64157668 574.87890711 566.53433212 580.97353645 591.68191304\n",
      " 594.34950424 585.04610576 614.91178812 618.98435744 612.10177493\n",
      " 612.87072268 607.53553933 605.54198649 610.1177248  613.95296368\n",
      " 608.72219149 617.91161914 618.88944805 605.73186318 632.33181804\n",
      " 643.36298965 649.89426996 646.91344436 641.59720757 652.16316312\n",
      " 667.59914386 658.92232906 655.64715771 665.68149499 646.79952955\n",
      " 625.26886251 630.70851492 635.01841466 626.39855726 636.52786184\n",
      " 660.28935424 657.17560936 664.83664233 668.90921164 659.72928765\n",
      " 656.67244131 638.06575829 633.18623133 637.20184324 644.17939304\n",
      " 642.47062533 621.64250383 598.73536681 597.50120205 583.88796079\n",
      " 593.91279536 606.14956663 608.52287095 592.30843974 592.93496645\n",
      " 586.19480594 579.95775461 586.65046138 573.37896265 569.26838249\n",
      " 575.92313728 586.53654752 595.38423264 595.24186951 594.32099706\n",
      " 592.03315733 591.87173087 593.34322606 584.18224768 579.36917989\n",
      " 573.46442629 551.03195012 537.5230621  525.91287639 524.76417622]\n"
     ]
    }
   ],
   "source": [
    "linear_prediction=lr.predict(x_future)\n",
    "print(linear_prediction)"
   ]
  },
  {
   "cell_type": "markdown",
   "id": "117bc99e",
   "metadata": {
    "papermill": {
     "duration": 0.011943,
     "end_time": "2023-02-14T13:04:34.783276",
     "exception": false,
     "start_time": "2023-02-14T13:04:34.771333",
     "status": "completed"
    },
    "tags": []
   },
   "source": [
    "# visualize the data"
   ]
  },
  {
   "cell_type": "code",
   "execution_count": 25,
   "id": "33652c5d",
   "metadata": {
    "execution": {
     "iopub.execute_input": "2023-02-14T13:04:34.809277Z",
     "iopub.status.busy": "2023-02-14T13:04:34.808827Z",
     "iopub.status.idle": "2023-02-14T13:04:35.135965Z",
     "shell.execute_reply": "2023-02-14T13:04:35.134745Z"
    },
    "papermill": {
     "duration": 0.343698,
     "end_time": "2023-02-14T13:04:35.138984",
     "exception": false,
     "start_time": "2023-02-14T13:04:34.795286",
     "status": "completed"
    },
    "tags": []
   },
   "outputs": [
    {
     "data": {
      "image/png": "[encoded data removed]",
      "text/plain": [
       "<Figure size 1152x576 with 1 Axes>"
      ]
     },
     "metadata": {
      "needs_background": "light"
     },
     "output_type": "display_data"
    }
   ],
   "source": [
    "predictions=tree_prediction\n",
    "valid=df1[X.shape[0]:]\n",
    "valid['predictions']=predictions\n",
    "plt.figure(figsize=(16,8))\n",
    "plt.title('Model')\n",
    "plt.xlabel('Days')\n",
    "plt.ylabel('Close Price USD($)')\n",
    "plt.plot(df1['Close'])\n",
    "plt.plot(valid[['Close','predictions']])\n",
    "plt.legend(['original','validation','prediction'])\n",
    "plt.show()"
   ]
  },
  {
   "cell_type": "markdown",
   "id": "eb53191c",
   "metadata": {
    "papermill": {
     "duration": 0.012338,
     "end_time": "2023-02-14T13:04:35.164088",
     "exception": false,
     "start_time": "2023-02-14T13:04:35.151750",
     "status": "completed"
    },
    "tags": []
   },
   "source": [
    "# as we see the validation and the prediction are the same "
   ]
  },
  {
   "cell_type": "code",
   "execution_count": 26,
   "id": "f90b719d",
   "metadata": {
    "execution": {
     "iopub.execute_input": "2023-02-14T13:04:35.192081Z",
     "iopub.status.busy": "2023-02-14T13:04:35.191405Z",
     "iopub.status.idle": "2023-02-14T13:04:35.491241Z",
     "shell.execute_reply": "2023-02-14T13:04:35.490068Z"
    },
    "papermill": {
     "duration": 0.31746,
     "end_time": "2023-02-14T13:04:35.494166",
     "exception": false,
     "start_time": "2023-02-14T13:04:35.176706",
     "status": "completed"
    },
    "tags": []
   },
   "outputs": [
    {
     "data": {
      "image/png": "[encoded data removed]",
      "text/plain": [
       "<Figure size 1152x576 with 1 Axes>"
      ]
     },
     "metadata": {
      "needs_background": "light"
     },
     "output_type": "display_data"
    }
   ],
   "source": [
    "predictions=linear_prediction\n",
    "valid=df1[X.shape[0]:]\n",
    "valid['predictions']=predictions\n",
    "plt.figure(figsize=(16,8))\n",
    "plt.title('Model')\n",
    "plt.xlabel('Days')\n",
    "plt.ylabel('Close Price USD($)')\n",
    "plt.plot(df1['Close'])\n",
    "plt.plot(valid[['Close','predictions']])\n",
    "plt.legend(['original','validation','prediction'])\n",
    "plt.show()"
   ]
  },
  {
   "cell_type": "markdown",
   "id": "706fff38",
   "metadata": {
    "papermill": {
     "duration": 0.013286,
     "end_time": "2023-02-14T13:04:35.520998",
     "exception": false,
     "start_time": "2023-02-14T13:04:35.507712",
     "status": "completed"
    },
    "tags": []
   },
   "source": [
    "# the prediction score are not good"
   ]
  },
  {
   "cell_type": "markdown",
   "id": "dad94af3",
   "metadata": {
    "papermill": {
     "duration": 0.013152,
     "end_time": "2023-02-14T13:04:35.547931",
     "exception": false,
     "start_time": "2023-02-14T13:04:35.534779",
     "status": "completed"
    },
    "tags": []
   },
   "source": [
    "# so we will use the decision tree regressor"
   ]
  }
 ],
 "metadata": {
  "kernelspec": {
   "display_name": "Python 3",
   "language": "python",
   "name": "python3"
  },
  "language_info": {
   "codemirror_mode": {
    "name": "ipython",
    "version": 3
   },
   "file_extension": ".py",
   "mimetype": "text/x-python",
   "name": "python",
   "nbconvert_exporter": "python",
   "pygments_lexer": "ipython3",
   "version": "3.7.12"
  },
  "papermill": {
   "default_parameters": {},
   "duration": 12.623635,
   "end_time": "2023-02-14T13:04:36.384699",
   "environment_variables": {},
   "exception": null,
   "input_path": "__notebook__.ipynb",
   "output_path": "__notebook__.ipynb",
   "parameters": {},
   "start_time": "2023-02-14T13:04:23.761064",
   "version": "2.3.4"
  }
 },
 "nbformat": 4,
 "nbformat_minor": 5
}
